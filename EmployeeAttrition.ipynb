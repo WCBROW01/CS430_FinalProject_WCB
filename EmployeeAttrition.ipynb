{
 "cells": [
  {
   "cell_type": "markdown",
   "metadata": {},
   "source": [
    "# Employee Analysis | Attrition Report\n",
    "## Will Brown\n",
    "## CS-430 Final Project\n",
    "### Run on my personal workstation (for speed)\n",
    "#### Specs:\n",
    "OS: Ubuntu 22.10\n",
    "\n",
    "CPU: AMD Ryzen 3700X (3.6-4.4 GHz)\n",
    "\n",
    "GPU: AMD Radeon RX 5700\n",
    "\n",
    "Memory: 64GB DDR4-3600 MHz (4x16GB)\n",
    "### Dataset: https://www.kaggle.com/datasets/whenamancodes/hr-employee-attrition"
   ]
  },
  {
   "cell_type": "code",
   "execution_count": 118,
   "metadata": {
    "id": "yemhUNMC8zjg"
   },
   "outputs": [],
   "source": [
    "import pandas as pd\n",
    "import numpy as np\n",
    "import tensorflow as tf\n",
    "from tensorflow import keras\n",
    "from tensorflow.keras.layers import Dense\n",
    "from tensorflow.keras import Sequential\n",
    "import matplotlib.pyplot as plt\n",
    "from sklearn.model_selection import train_test_split"
   ]
  },
  {
   "cell_type": "code",
   "execution_count": 119,
   "metadata": {
    "colab": {
     "base_uri": "https://localhost:8080/",
     "height": 270
    },
    "id": "QOalZkw5DAOX",
    "outputId": "2e648ec3-1c5a-494c-e780-587b87c79516"
   },
   "outputs": [
    {
     "data": {
      "text/html": [
       "<div>\n",
       "<style scoped>\n",
       "    .dataframe tbody tr th:only-of-type {\n",
       "        vertical-align: middle;\n",
       "    }\n",
       "\n",
       "    .dataframe tbody tr th {\n",
       "        vertical-align: top;\n",
       "    }\n",
       "\n",
       "    .dataframe thead th {\n",
       "        text-align: right;\n",
       "    }\n",
       "</style>\n",
       "<table border=\"1\" class=\"dataframe\">\n",
       "  <thead>\n",
       "    <tr style=\"text-align: right;\">\n",
       "      <th></th>\n",
       "      <th>Age</th>\n",
       "      <th>Attrition</th>\n",
       "      <th>BusinessTravel</th>\n",
       "      <th>DailyRate</th>\n",
       "      <th>Department</th>\n",
       "      <th>DistanceFromHome</th>\n",
       "      <th>Education</th>\n",
       "      <th>EducationField</th>\n",
       "      <th>EmployeeCount</th>\n",
       "      <th>EmployeeNumber</th>\n",
       "      <th>...</th>\n",
       "      <th>RelationshipSatisfaction</th>\n",
       "      <th>StandardHours</th>\n",
       "      <th>StockOptionLevel</th>\n",
       "      <th>TotalWorkingYears</th>\n",
       "      <th>TrainingTimesLastYear</th>\n",
       "      <th>WorkLifeBalance</th>\n",
       "      <th>YearsAtCompany</th>\n",
       "      <th>YearsInCurrentRole</th>\n",
       "      <th>YearsSinceLastPromotion</th>\n",
       "      <th>YearsWithCurrManager</th>\n",
       "    </tr>\n",
       "  </thead>\n",
       "  <tbody>\n",
       "    <tr>\n",
       "      <th>0</th>\n",
       "      <td>41</td>\n",
       "      <td>Yes</td>\n",
       "      <td>Travel_Rarely</td>\n",
       "      <td>1102</td>\n",
       "      <td>Sales</td>\n",
       "      <td>1</td>\n",
       "      <td>2</td>\n",
       "      <td>Life Sciences</td>\n",
       "      <td>1</td>\n",
       "      <td>1</td>\n",
       "      <td>...</td>\n",
       "      <td>1</td>\n",
       "      <td>80</td>\n",
       "      <td>0</td>\n",
       "      <td>8</td>\n",
       "      <td>0</td>\n",
       "      <td>1</td>\n",
       "      <td>6</td>\n",
       "      <td>4</td>\n",
       "      <td>0</td>\n",
       "      <td>5</td>\n",
       "    </tr>\n",
       "    <tr>\n",
       "      <th>1</th>\n",
       "      <td>49</td>\n",
       "      <td>No</td>\n",
       "      <td>Travel_Frequently</td>\n",
       "      <td>279</td>\n",
       "      <td>Research &amp; Development</td>\n",
       "      <td>8</td>\n",
       "      <td>1</td>\n",
       "      <td>Life Sciences</td>\n",
       "      <td>1</td>\n",
       "      <td>2</td>\n",
       "      <td>...</td>\n",
       "      <td>4</td>\n",
       "      <td>80</td>\n",
       "      <td>1</td>\n",
       "      <td>10</td>\n",
       "      <td>3</td>\n",
       "      <td>3</td>\n",
       "      <td>10</td>\n",
       "      <td>7</td>\n",
       "      <td>1</td>\n",
       "      <td>7</td>\n",
       "    </tr>\n",
       "    <tr>\n",
       "      <th>2</th>\n",
       "      <td>37</td>\n",
       "      <td>Yes</td>\n",
       "      <td>Travel_Rarely</td>\n",
       "      <td>1373</td>\n",
       "      <td>Research &amp; Development</td>\n",
       "      <td>2</td>\n",
       "      <td>2</td>\n",
       "      <td>Other</td>\n",
       "      <td>1</td>\n",
       "      <td>4</td>\n",
       "      <td>...</td>\n",
       "      <td>2</td>\n",
       "      <td>80</td>\n",
       "      <td>0</td>\n",
       "      <td>7</td>\n",
       "      <td>3</td>\n",
       "      <td>3</td>\n",
       "      <td>0</td>\n",
       "      <td>0</td>\n",
       "      <td>0</td>\n",
       "      <td>0</td>\n",
       "    </tr>\n",
       "    <tr>\n",
       "      <th>3</th>\n",
       "      <td>33</td>\n",
       "      <td>No</td>\n",
       "      <td>Travel_Frequently</td>\n",
       "      <td>1392</td>\n",
       "      <td>Research &amp; Development</td>\n",
       "      <td>3</td>\n",
       "      <td>4</td>\n",
       "      <td>Life Sciences</td>\n",
       "      <td>1</td>\n",
       "      <td>5</td>\n",
       "      <td>...</td>\n",
       "      <td>3</td>\n",
       "      <td>80</td>\n",
       "      <td>0</td>\n",
       "      <td>8</td>\n",
       "      <td>3</td>\n",
       "      <td>3</td>\n",
       "      <td>8</td>\n",
       "      <td>7</td>\n",
       "      <td>3</td>\n",
       "      <td>0</td>\n",
       "    </tr>\n",
       "    <tr>\n",
       "      <th>4</th>\n",
       "      <td>27</td>\n",
       "      <td>No</td>\n",
       "      <td>Travel_Rarely</td>\n",
       "      <td>591</td>\n",
       "      <td>Research &amp; Development</td>\n",
       "      <td>2</td>\n",
       "      <td>1</td>\n",
       "      <td>Medical</td>\n",
       "      <td>1</td>\n",
       "      <td>7</td>\n",
       "      <td>...</td>\n",
       "      <td>4</td>\n",
       "      <td>80</td>\n",
       "      <td>1</td>\n",
       "      <td>6</td>\n",
       "      <td>3</td>\n",
       "      <td>3</td>\n",
       "      <td>2</td>\n",
       "      <td>2</td>\n",
       "      <td>2</td>\n",
       "      <td>2</td>\n",
       "    </tr>\n",
       "  </tbody>\n",
       "</table>\n",
       "<p>5 rows × 35 columns</p>\n",
       "</div>"
      ],
      "text/plain": [
       "   Age Attrition     BusinessTravel  DailyRate              Department  \\\n",
       "0   41       Yes      Travel_Rarely       1102                   Sales   \n",
       "1   49        No  Travel_Frequently        279  Research & Development   \n",
       "2   37       Yes      Travel_Rarely       1373  Research & Development   \n",
       "3   33        No  Travel_Frequently       1392  Research & Development   \n",
       "4   27        No      Travel_Rarely        591  Research & Development   \n",
       "\n",
       "   DistanceFromHome  Education EducationField  EmployeeCount  EmployeeNumber  \\\n",
       "0                 1          2  Life Sciences              1               1   \n",
       "1                 8          1  Life Sciences              1               2   \n",
       "2                 2          2          Other              1               4   \n",
       "3                 3          4  Life Sciences              1               5   \n",
       "4                 2          1        Medical              1               7   \n",
       "\n",
       "   ...  RelationshipSatisfaction StandardHours  StockOptionLevel  \\\n",
       "0  ...                         1            80                 0   \n",
       "1  ...                         4            80                 1   \n",
       "2  ...                         2            80                 0   \n",
       "3  ...                         3            80                 0   \n",
       "4  ...                         4            80                 1   \n",
       "\n",
       "   TotalWorkingYears  TrainingTimesLastYear WorkLifeBalance  YearsAtCompany  \\\n",
       "0                  8                      0               1               6   \n",
       "1                 10                      3               3              10   \n",
       "2                  7                      3               3               0   \n",
       "3                  8                      3               3               8   \n",
       "4                  6                      3               3               2   \n",
       "\n",
       "  YearsInCurrentRole  YearsSinceLastPromotion  YearsWithCurrManager  \n",
       "0                  4                        0                     5  \n",
       "1                  7                        1                     7  \n",
       "2                  0                        0                     0  \n",
       "3                  7                        3                     0  \n",
       "4                  2                        2                     2  \n",
       "\n",
       "[5 rows x 35 columns]"
      ]
     },
     "execution_count": 119,
     "metadata": {},
     "output_type": "execute_result"
    }
   ],
   "source": [
    "attrition = pd.read_csv(\"HR Employee Attrition.csv\")\n",
    "attrition.head()"
   ]
  },
  {
   "cell_type": "code",
   "execution_count": 120,
   "metadata": {
    "colab": {
     "base_uri": "https://localhost:8080/"
    },
    "id": "uWE6egqGDXFx",
    "outputId": "9822e092-5f11-453c-c015-51c6fe3c9147"
   },
   "outputs": [
    {
     "name": "stdout",
     "output_type": "stream",
     "text": [
      "<class 'pandas.core.frame.DataFrame'>\n",
      "RangeIndex: 1470 entries, 0 to 1469\n",
      "Data columns (total 35 columns):\n",
      " #   Column                    Non-Null Count  Dtype \n",
      "---  ------                    --------------  ----- \n",
      " 0   Age                       1470 non-null   int64 \n",
      " 1   Attrition                 1470 non-null   object\n",
      " 2   BusinessTravel            1470 non-null   object\n",
      " 3   DailyRate                 1470 non-null   int64 \n",
      " 4   Department                1470 non-null   object\n",
      " 5   DistanceFromHome          1470 non-null   int64 \n",
      " 6   Education                 1470 non-null   int64 \n",
      " 7   EducationField            1470 non-null   object\n",
      " 8   EmployeeCount             1470 non-null   int64 \n",
      " 9   EmployeeNumber            1470 non-null   int64 \n",
      " 10  EnvironmentSatisfaction   1470 non-null   int64 \n",
      " 11  Gender                    1470 non-null   object\n",
      " 12  HourlyRate                1470 non-null   int64 \n",
      " 13  JobInvolvement            1470 non-null   int64 \n",
      " 14  JobLevel                  1470 non-null   int64 \n",
      " 15  JobRole                   1470 non-null   object\n",
      " 16  JobSatisfaction           1470 non-null   int64 \n",
      " 17  MaritalStatus             1470 non-null   object\n",
      " 18  MonthlyIncome             1470 non-null   int64 \n",
      " 19  MonthlyRate               1470 non-null   int64 \n",
      " 20  NumCompaniesWorked        1470 non-null   int64 \n",
      " 21  Over18                    1470 non-null   object\n",
      " 22  OverTime                  1470 non-null   object\n",
      " 23  PercentSalaryHike         1470 non-null   int64 \n",
      " 24  PerformanceRating         1470 non-null   int64 \n",
      " 25  RelationshipSatisfaction  1470 non-null   int64 \n",
      " 26  StandardHours             1470 non-null   int64 \n",
      " 27  StockOptionLevel          1470 non-null   int64 \n",
      " 28  TotalWorkingYears         1470 non-null   int64 \n",
      " 29  TrainingTimesLastYear     1470 non-null   int64 \n",
      " 30  WorkLifeBalance           1470 non-null   int64 \n",
      " 31  YearsAtCompany            1470 non-null   int64 \n",
      " 32  YearsInCurrentRole        1470 non-null   int64 \n",
      " 33  YearsSinceLastPromotion   1470 non-null   int64 \n",
      " 34  YearsWithCurrManager      1470 non-null   int64 \n",
      "dtypes: int64(26), object(9)\n",
      "memory usage: 402.1+ KB\n"
     ]
    }
   ],
   "source": [
    "attrition.info()"
   ]
  },
  {
   "cell_type": "markdown",
   "metadata": {},
   "source": [
    "### Drop unnecessary columns"
   ]
  },
  {
   "cell_type": "code",
   "execution_count": 121,
   "metadata": {},
   "outputs": [],
   "source": [
    "attrition.drop(['EmployeeCount', 'EmployeeNumber', 'Over18', 'StandardHours'], axis=1, inplace=True)"
   ]
  },
  {
   "cell_type": "markdown",
   "metadata": {},
   "source": [
    "### Encode string/labels"
   ]
  },
  {
   "cell_type": "code",
   "execution_count": 123,
   "metadata": {},
   "outputs": [
    {
     "data": {
      "text/html": [
       "<div>\n",
       "<style scoped>\n",
       "    .dataframe tbody tr th:only-of-type {\n",
       "        vertical-align: middle;\n",
       "    }\n",
       "\n",
       "    .dataframe tbody tr th {\n",
       "        vertical-align: top;\n",
       "    }\n",
       "\n",
       "    .dataframe thead th {\n",
       "        text-align: right;\n",
       "    }\n",
       "</style>\n",
       "<table border=\"1\" class=\"dataframe\">\n",
       "  <thead>\n",
       "    <tr style=\"text-align: right;\">\n",
       "      <th></th>\n",
       "      <th>Attrition</th>\n",
       "      <th>BusinessTravel</th>\n",
       "      <th>Department</th>\n",
       "      <th>EducationField</th>\n",
       "      <th>Gender</th>\n",
       "      <th>JobRole</th>\n",
       "      <th>MaritalStatus</th>\n",
       "      <th>OverTime</th>\n",
       "    </tr>\n",
       "  </thead>\n",
       "  <tbody>\n",
       "    <tr>\n",
       "      <th>0</th>\n",
       "      <td>Yes</td>\n",
       "      <td>Travel_Rarely</td>\n",
       "      <td>Sales</td>\n",
       "      <td>Life Sciences</td>\n",
       "      <td>Female</td>\n",
       "      <td>Sales Executive</td>\n",
       "      <td>Single</td>\n",
       "      <td>Yes</td>\n",
       "    </tr>\n",
       "    <tr>\n",
       "      <th>1</th>\n",
       "      <td>No</td>\n",
       "      <td>Travel_Frequently</td>\n",
       "      <td>Research &amp; Development</td>\n",
       "      <td>Life Sciences</td>\n",
       "      <td>Male</td>\n",
       "      <td>Research Scientist</td>\n",
       "      <td>Married</td>\n",
       "      <td>No</td>\n",
       "    </tr>\n",
       "    <tr>\n",
       "      <th>2</th>\n",
       "      <td>Yes</td>\n",
       "      <td>Travel_Rarely</td>\n",
       "      <td>Research &amp; Development</td>\n",
       "      <td>Other</td>\n",
       "      <td>Male</td>\n",
       "      <td>Laboratory Technician</td>\n",
       "      <td>Single</td>\n",
       "      <td>Yes</td>\n",
       "    </tr>\n",
       "    <tr>\n",
       "      <th>3</th>\n",
       "      <td>No</td>\n",
       "      <td>Travel_Frequently</td>\n",
       "      <td>Research &amp; Development</td>\n",
       "      <td>Life Sciences</td>\n",
       "      <td>Female</td>\n",
       "      <td>Research Scientist</td>\n",
       "      <td>Married</td>\n",
       "      <td>Yes</td>\n",
       "    </tr>\n",
       "    <tr>\n",
       "      <th>4</th>\n",
       "      <td>No</td>\n",
       "      <td>Travel_Rarely</td>\n",
       "      <td>Research &amp; Development</td>\n",
       "      <td>Medical</td>\n",
       "      <td>Male</td>\n",
       "      <td>Laboratory Technician</td>\n",
       "      <td>Married</td>\n",
       "      <td>No</td>\n",
       "    </tr>\n",
       "  </tbody>\n",
       "</table>\n",
       "</div>"
      ],
      "text/plain": [
       "  Attrition     BusinessTravel              Department EducationField  Gender  \\\n",
       "0       Yes      Travel_Rarely                   Sales  Life Sciences  Female   \n",
       "1        No  Travel_Frequently  Research & Development  Life Sciences    Male   \n",
       "2       Yes      Travel_Rarely  Research & Development          Other    Male   \n",
       "3        No  Travel_Frequently  Research & Development  Life Sciences  Female   \n",
       "4        No      Travel_Rarely  Research & Development        Medical    Male   \n",
       "\n",
       "                 JobRole MaritalStatus OverTime  \n",
       "0        Sales Executive        Single      Yes  \n",
       "1     Research Scientist       Married       No  \n",
       "2  Laboratory Technician        Single      Yes  \n",
       "3     Research Scientist       Married      Yes  \n",
       "4  Laboratory Technician       Married       No  "
      ]
     },
     "execution_count": 123,
     "metadata": {},
     "output_type": "execute_result"
    }
   ],
   "source": [
    "columns_to_encode = [\n",
    "    'Attrition', 'BusinessTravel', 'Department', 'EducationField',\n",
    "    'Gender', 'JobRole', 'MaritalStatus', 'OverTime'\n",
    "]\n",
    "attrition[columns_to_encode].head()"
   ]
  },
  {
   "cell_type": "code",
   "execution_count": 124,
   "metadata": {},
   "outputs": [],
   "source": [
    "from sklearn.preprocessing import LabelEncoder\n",
    "le = LabelEncoder()\n",
    "for col in columns_to_encode:\n",
    "    attrition[col] = le.fit_transform(attrition[col])"
   ]
  },
  {
   "cell_type": "code",
   "execution_count": 125,
   "metadata": {},
   "outputs": [
    {
     "name": "stdout",
     "output_type": "stream",
     "text": [
      "<class 'pandas.core.frame.DataFrame'>\n",
      "RangeIndex: 1470 entries, 0 to 1469\n",
      "Data columns (total 31 columns):\n",
      " #   Column                    Non-Null Count  Dtype\n",
      "---  ------                    --------------  -----\n",
      " 0   Age                       1470 non-null   int64\n",
      " 1   Attrition                 1470 non-null   int64\n",
      " 2   BusinessTravel            1470 non-null   int64\n",
      " 3   DailyRate                 1470 non-null   int64\n",
      " 4   Department                1470 non-null   int64\n",
      " 5   DistanceFromHome          1470 non-null   int64\n",
      " 6   Education                 1470 non-null   int64\n",
      " 7   EducationField            1470 non-null   int64\n",
      " 8   EnvironmentSatisfaction   1470 non-null   int64\n",
      " 9   Gender                    1470 non-null   int64\n",
      " 10  HourlyRate                1470 non-null   int64\n",
      " 11  JobInvolvement            1470 non-null   int64\n",
      " 12  JobLevel                  1470 non-null   int64\n",
      " 13  JobRole                   1470 non-null   int64\n",
      " 14  JobSatisfaction           1470 non-null   int64\n",
      " 15  MaritalStatus             1470 non-null   int64\n",
      " 16  MonthlyIncome             1470 non-null   int64\n",
      " 17  MonthlyRate               1470 non-null   int64\n",
      " 18  NumCompaniesWorked        1470 non-null   int64\n",
      " 19  OverTime                  1470 non-null   int64\n",
      " 20  PercentSalaryHike         1470 non-null   int64\n",
      " 21  PerformanceRating         1470 non-null   int64\n",
      " 22  RelationshipSatisfaction  1470 non-null   int64\n",
      " 23  StockOptionLevel          1470 non-null   int64\n",
      " 24  TotalWorkingYears         1470 non-null   int64\n",
      " 25  TrainingTimesLastYear     1470 non-null   int64\n",
      " 26  WorkLifeBalance           1470 non-null   int64\n",
      " 27  YearsAtCompany            1470 non-null   int64\n",
      " 28  YearsInCurrentRole        1470 non-null   int64\n",
      " 29  YearsSinceLastPromotion   1470 non-null   int64\n",
      " 30  YearsWithCurrManager      1470 non-null   int64\n",
      "dtypes: int64(31)\n",
      "memory usage: 356.1 KB\n"
     ]
    }
   ],
   "source": [
    "attrition.info() # all good :)"
   ]
  },
  {
   "cell_type": "markdown",
   "metadata": {},
   "source": [
    "### Get X and y and scale"
   ]
  },
  {
   "cell_type": "code",
   "execution_count": 126,
   "metadata": {
    "id": "ifQuHlpqEf-u"
   },
   "outputs": [],
   "source": [
    "X=attrition.drop(\"Attrition\", axis=1)"
   ]
  },
  {
   "cell_type": "code",
   "execution_count": 127,
   "metadata": {
    "id": "yimJGWBZE30J"
   },
   "outputs": [],
   "source": [
    "y=attrition.Attrition"
   ]
  },
  {
   "cell_type": "code",
   "execution_count": 128,
   "metadata": {
    "colab": {
     "base_uri": "https://localhost:8080/"
    },
    "id": "At6Y8WklFCFd",
    "outputId": "ebd5db19-6282-43b6-8389-3a6708aede19"
   },
   "outputs": [
    {
     "name": "stdout",
     "output_type": "stream",
     "text": [
      "[[ 0.4463504   0.59004834  0.74252653 ... -0.0632959  -0.67914568\n",
      "   0.24583399]\n",
      " [ 1.32236521 -0.91319439 -1.2977746  ...  0.76499762 -0.36871529\n",
      "   0.80654148]\n",
      " [ 0.008343    0.59004834  1.41436324 ... -1.16768726 -0.67914568\n",
      "  -1.15593471]\n",
      " ...\n",
      " [-1.08667552  0.59004834 -1.60518328 ... -0.61549158 -0.67914568\n",
      "  -0.31487349]\n",
      " [ 1.32236521 -0.91319439  0.54667746 ...  0.48889978 -0.67914568\n",
      "   1.08689522]\n",
      " [-0.32016256  0.59004834 -0.43256792 ... -0.33939374 -0.36871529\n",
      "  -0.59522723]]\n"
     ]
    }
   ],
   "source": [
    "from sklearn.preprocessing import StandardScaler\n",
    "sc_x=StandardScaler()\n",
    "X=sc_x.fit_transform(X)\n",
    "print(X)"
   ]
  },
  {
   "cell_type": "markdown",
   "metadata": {},
   "source": [
    "### Split Data"
   ]
  },
  {
   "cell_type": "code",
   "execution_count": 162,
   "metadata": {
    "id": "jy4Jt5H0FcEd"
   },
   "outputs": [],
   "source": [
    "X_train, X_test, y_train, y_test = train_test_split(X, y, test_size=0.2, stratify=y, random_state=0) "
   ]
  },
  {
   "cell_type": "markdown",
   "metadata": {},
   "source": [
    "### Logistic Regression"
   ]
  },
  {
   "cell_type": "code",
   "execution_count": 163,
   "metadata": {},
   "outputs": [
    {
     "name": "stdout",
     "output_type": "stream",
     "text": [
      "0.8707482993197279\n",
      "0.8741496598639455\n"
     ]
    }
   ],
   "source": [
    "from sklearn.linear_model import LogisticRegression\n",
    "log_reg = LogisticRegression(random_state=42)\n",
    "log_reg.fit(X_train, y_train)\n",
    "print(log_reg.score(X_train, y_train))\n",
    "print(log_reg.score(X_test, y_test))"
   ]
  },
  {
   "cell_type": "markdown",
   "metadata": {},
   "source": [
    "### Random Forest"
   ]
  },
  {
   "cell_type": "code",
   "execution_count": 164,
   "metadata": {},
   "outputs": [
    {
     "name": "stdout",
     "output_type": "stream",
     "text": [
      "0.8758503401360545\n",
      "0.8503401360544217\n"
     ]
    }
   ],
   "source": [
    "from sklearn.ensemble import RandomForestClassifier\n",
    "rf_clf = RandomForestClassifier(max_depth=5, random_state=42)\n",
    "rf_clf.fit(X_train, y_train)\n",
    "print(rf_clf.score(X_train, y_train))\n",
    "print(rf_clf.score(X_test, y_test))"
   ]
  },
  {
   "cell_type": "markdown",
   "metadata": {},
   "source": [
    "### Decision Tree"
   ]
  },
  {
   "cell_type": "code",
   "execution_count": 165,
   "metadata": {},
   "outputs": [
    {
     "name": "stdout",
     "output_type": "stream",
     "text": [
      "0.9030612244897959\n",
      "0.8503401360544217\n"
     ]
    }
   ],
   "source": [
    "from sklearn.tree import DecisionTreeClassifier\n",
    "dt_clf = DecisionTreeClassifier(max_depth=5, random_state=42)\n",
    "dt_clf.fit(X_train, y_train)\n",
    "print(dt_clf.score(X_train, y_train))\n",
    "print(dt_clf.score(X_test, y_test))"
   ]
  },
  {
   "cell_type": "markdown",
   "metadata": {},
   "source": [
    "### Support Vector Classifier"
   ]
  },
  {
   "cell_type": "code",
   "execution_count": 166,
   "metadata": {},
   "outputs": [
    {
     "name": "stdout",
     "output_type": "stream",
     "text": [
      "0.9132653061224489\n",
      "0.8571428571428571\n"
     ]
    }
   ],
   "source": [
    "from sklearn.svm import SVC\n",
    "svc = SVC()\n",
    "svc.fit(X_train, y_train)\n",
    "print(svc.score(X_train, y_train))\n",
    "print(svc.score(X_test, y_test))"
   ]
  },
  {
   "cell_type": "code",
   "execution_count": 167,
   "metadata": {
    "colab": {
     "base_uri": "https://localhost:8080/"
    },
    "id": "FsJkXqZvFnSZ",
    "outputId": "5d8baa37-b0c8-4699-e09d-a03e35fe3eff"
   },
   "outputs": [
    {
     "name": "stdout",
     "output_type": "stream",
     "text": [
      "30\n",
      "Model: \"sequential_14\"\n",
      "_________________________________________________________________\n",
      " Layer (type)                Output Shape              Param #   \n",
      "=================================================================\n",
      " dense_69 (Dense)            (None, 512)               15872     \n",
      "                                                                 \n",
      " dense_70 (Dense)            (None, 256)               131328    \n",
      "                                                                 \n",
      " dense_71 (Dense)            (None, 128)               32896     \n",
      "                                                                 \n",
      " dense_72 (Dense)            (None, 2)                 258       \n",
      "                                                                 \n",
      " dense_73 (Dense)            (None, 1)                 3         \n",
      "                                                                 \n",
      "=================================================================\n",
      "Total params: 180,357\n",
      "Trainable params: 180,357\n",
      "Non-trainable params: 0\n",
      "_________________________________________________________________\n"
     ]
    }
   ],
   "source": [
    "#get number of columns in training data\n",
    "n_cols = X_train.shape[1]\n",
    "print(n_cols)\n",
    "\n",
    "# builds model\n",
    "model = Sequential()\n",
    "\n",
    "model.add(Dense(512, activation='relu', \n",
    "                       input_shape=(n_cols,)))\n",
    "model.add(Dense(256, activation='relu'))\n",
    "model.add(Dense(128, activation='relu'))\n",
    "model.add(Dense(2, activation='softmax'))\n",
    "model.add(Dense(1))\n",
    "\n",
    "#compile model\n",
    "model.compile(loss='mse', optimizer='adam', metrics=['mae']) # use metric as mean absolute error\n",
    "\n",
    "#inspect the model\n",
    "model.summary()"
   ]
  },
  {
   "cell_type": "code",
   "execution_count": 168,
   "metadata": {
    "colab": {
     "base_uri": "https://localhost:8080/"
    },
    "id": "gDaDS47JHqEj",
    "outputId": "2b9120f1-9a29-46b0-c5eb-02e4560756fd"
   },
   "outputs": [
    {
     "name": "stdout",
     "output_type": "stream",
     "text": [
      "Epoch 1/300\n",
      "30/30 [==============================] - 1s 4ms/step - loss: 0.1508 - mae: 0.3191 - val_loss: 0.1300 - val_mae: 0.2781\n",
      "Epoch 2/300\n",
      "30/30 [==============================] - 0s 2ms/step - loss: 0.1358 - mae: 0.2805 - val_loss: 0.1248 - val_mae: 0.2734\n",
      "Epoch 3/300\n",
      "30/30 [==============================] - 0s 2ms/step - loss: 0.1136 - mae: 0.2720 - val_loss: 0.1171 - val_mae: 0.2613\n",
      "Epoch 4/300\n",
      "30/30 [==============================] - 0s 2ms/step - loss: 0.0927 - mae: 0.2201 - val_loss: 0.1157 - val_mae: 0.2378\n",
      "Epoch 5/300\n",
      "30/30 [==============================] - 0s 2ms/step - loss: 0.0723 - mae: 0.1796 - val_loss: 0.1251 - val_mae: 0.2252\n",
      "Epoch 6/300\n",
      "30/30 [==============================] - 0s 2ms/step - loss: 0.0634 - mae: 0.1526 - val_loss: 0.1265 - val_mae: 0.2094\n",
      "Epoch 7/300\n",
      "30/30 [==============================] - 0s 2ms/step - loss: 0.0575 - mae: 0.1366 - val_loss: 0.1450 - val_mae: 0.2363\n",
      "Epoch 8/300\n",
      "30/30 [==============================] - 0s 2ms/step - loss: 0.0516 - mae: 0.1276 - val_loss: 0.1410 - val_mae: 0.2164\n",
      "Epoch 9/300\n",
      "30/30 [==============================] - 0s 2ms/step - loss: 0.0456 - mae: 0.1135 - val_loss: 0.1563 - val_mae: 0.2264\n",
      "Epoch 10/300\n",
      "30/30 [==============================] - 0s 2ms/step - loss: 0.0410 - mae: 0.0978 - val_loss: 0.1563 - val_mae: 0.2155\n",
      "Epoch 11/300\n",
      "30/30 [==============================] - 0s 2ms/step - loss: 0.0404 - mae: 0.0960 - val_loss: 0.1481 - val_mae: 0.2143\n",
      "Epoch 12/300\n",
      "30/30 [==============================] - 0s 2ms/step - loss: 0.0394 - mae: 0.0926 - val_loss: 0.1532 - val_mae: 0.2119\n",
      "Epoch 13/300\n",
      "30/30 [==============================] - 0s 2ms/step - loss: 0.0380 - mae: 0.0858 - val_loss: 0.1586 - val_mae: 0.2159\n",
      "Epoch 14/300\n",
      "30/30 [==============================] - 0s 2ms/step - loss: 0.0419 - mae: 0.0913 - val_loss: 0.1450 - val_mae: 0.1967\n",
      "Epoch 15/300\n",
      "30/30 [==============================] - 0s 2ms/step - loss: 0.0418 - mae: 0.0905 - val_loss: 0.1677 - val_mae: 0.2222\n",
      "Epoch 16/300\n",
      "30/30 [==============================] - 0s 2ms/step - loss: 0.0361 - mae: 0.0842 - val_loss: 0.1782 - val_mae: 0.2323\n",
      "Epoch 17/300\n",
      "30/30 [==============================] - 0s 2ms/step - loss: 0.0341 - mae: 0.0743 - val_loss: 0.1707 - val_mae: 0.2164\n",
      "Epoch 18/300\n",
      "30/30 [==============================] - 0s 2ms/step - loss: 0.0339 - mae: 0.0705 - val_loss: 0.1682 - val_mae: 0.2140\n",
      "Epoch 19/300\n",
      "30/30 [==============================] - 0s 2ms/step - loss: 0.0337 - mae: 0.0713 - val_loss: 0.1687 - val_mae: 0.2135\n",
      "Epoch 20/300\n",
      "30/30 [==============================] - 0s 2ms/step - loss: 0.0340 - mae: 0.0692 - val_loss: 0.1712 - val_mae: 0.2190\n",
      "Epoch 21/300\n",
      "30/30 [==============================] - 0s 2ms/step - loss: 0.0338 - mae: 0.0716 - val_loss: 0.1699 - val_mae: 0.2184\n",
      "Epoch 22/300\n",
      "30/30 [==============================] - 0s 2ms/step - loss: 0.0329 - mae: 0.0688 - val_loss: 0.1627 - val_mae: 0.2059\n",
      "Epoch 23/300\n",
      "30/30 [==============================] - 0s 2ms/step - loss: 0.0328 - mae: 0.0692 - val_loss: 0.1632 - val_mae: 0.2070\n",
      "Epoch 24/300\n",
      "30/30 [==============================] - 0s 2ms/step - loss: 0.0328 - mae: 0.0679 - val_loss: 0.1649 - val_mae: 0.2066\n",
      "Epoch 25/300\n",
      "30/30 [==============================] - 0s 2ms/step - loss: 0.0328 - mae: 0.0707 - val_loss: 0.1651 - val_mae: 0.2091\n",
      "Epoch 26/300\n",
      "30/30 [==============================] - 0s 2ms/step - loss: 0.0327 - mae: 0.0677 - val_loss: 0.1659 - val_mae: 0.2054\n",
      "Epoch 27/300\n",
      "30/30 [==============================] - 0s 2ms/step - loss: 0.0327 - mae: 0.0639 - val_loss: 0.1662 - val_mae: 0.2060\n",
      "Epoch 28/300\n",
      "30/30 [==============================] - 0s 2ms/step - loss: 0.0327 - mae: 0.0651 - val_loss: 0.1664 - val_mae: 0.2070\n",
      "Epoch 29/300\n",
      "30/30 [==============================] - 0s 2ms/step - loss: 0.0327 - mae: 0.0661 - val_loss: 0.1662 - val_mae: 0.2079\n",
      "Epoch 30/300\n",
      "30/30 [==============================] - 0s 2ms/step - loss: 0.0328 - mae: 0.0671 - val_loss: 0.1662 - val_mae: 0.2075\n",
      "Epoch 31/300\n",
      "30/30 [==============================] - 0s 2ms/step - loss: 0.0328 - mae: 0.0718 - val_loss: 0.1658 - val_mae: 0.2088\n",
      "Epoch 32/300\n",
      "30/30 [==============================] - 0s 2ms/step - loss: 0.0327 - mae: 0.0654 - val_loss: 0.1664 - val_mae: 0.2048\n",
      "Epoch 33/300\n",
      "30/30 [==============================] - 0s 2ms/step - loss: 0.0328 - mae: 0.0630 - val_loss: 0.1666 - val_mae: 0.2056\n",
      "Epoch 34/300\n",
      "30/30 [==============================] - 0s 2ms/step - loss: 0.0327 - mae: 0.0669 - val_loss: 0.1663 - val_mae: 0.2088\n"
     ]
    }
   ],
   "source": [
    "from keras.callbacks import EarlyStopping\n",
    "#train model and perform validation test\n",
    "\n",
    "early_stop = EarlyStopping(monitor='val_loss', patience=30) # stops training when it doesn't show improvemnet.\n",
    "\n",
    "history = model.fit(X_train, y_train, epochs=300, \n",
    "          validation_split=0.2, verbose=1, callbacks=[early_stop])"
   ]
  },
  {
   "cell_type": "code",
   "execution_count": 169,
   "metadata": {
    "colab": {
     "base_uri": "https://localhost:8080/",
     "height": 385
    },
    "id": "q2CyoKSJIqO2",
    "outputId": "78950eb5-93dd-4c12-c89d-41f2b453d333"
   },
   "outputs": [
    {
     "data": {
      "text/plain": [
       "<matplotlib.legend.Legend at 0x7f99184777f0>"
      ]
     },
     "execution_count": 169,
     "metadata": {},
     "output_type": "execute_result"
    },
    {
     "data": {
      "image/png": "[encoded data removed]",
      "text/plain": [
       "<Figure size 1080x576 with 1 Axes>"
      ]
     },
     "metadata": {
      "needs_background": "light"
     },
     "output_type": "display_data"
    }
   ],
   "source": [
    "# show the graph of model loss in trainig and validation \n",
    "\n",
    "plt.figure(figsize=(15,8))\n",
    "plt.xlabel('Epoch')\n",
    "plt.ylabel('Loss') #MSE\n",
    "plt.plot(history.epoch, history.history['loss'],\n",
    "           label='Train Loss')\n",
    "plt.plot(history.epoch, history.history['val_loss'],\n",
    "           label = 'Val loss')\n",
    "plt.title('Model loss')\n",
    "plt.legend()"
   ]
  },
  {
   "cell_type": "code",
   "execution_count": 170,
   "metadata": {
    "colab": {
     "base_uri": "https://localhost:8080/",
     "height": 383
    },
    "id": "V_Jpg-ML3zym",
    "outputId": "9d50dc54-bae0-42c5-c882-724f576bcd7d"
   },
   "outputs": [
    {
     "data": {
      "text/plain": [
       "<matplotlib.legend.Legend at 0x7f99184b8a00>"
      ]
     },
     "execution_count": 170,
     "metadata": {},
     "output_type": "execute_result"
    },
    {
     "data": {
      "image/png": "[encoded data removed]",
      "text/plain": [
       "<Figure size 1080x576 with 1 Axes>"
      ]
     },
     "metadata": {
      "needs_background": "light"
     },
     "output_type": "display_data"
    }
   ],
   "source": [
    "# show the graph of model loss in training and validation \n",
    "\n",
    "plt.figure(figsize=(15,8))\n",
    "plt.xlabel('Epoch')\n",
    "plt.ylabel('Mean Absolute Error')\n",
    "plt.plot(history.epoch, history.history['mae'],\n",
    "           label='Train error')\n",
    "plt.plot(history.epoch, history.history['val_mae'],\n",
    "           label = 'Val error')\n",
    "plt.title('Model error')\n",
    "plt.legend()"
   ]
  },
  {
   "cell_type": "code",
   "execution_count": 171,
   "metadata": {
    "colab": {
     "base_uri": "https://localhost:8080/"
    },
    "id": "WBh3G0YeJNYC",
    "outputId": "c897945f-5d2f-4f5d-a9b7-d442293e2d9b"
   },
   "outputs": [
    {
     "name": "stdout",
     "output_type": "stream",
     "text": [
      "10/10 [==============================] - 0s 697us/step - loss: 0.1398 - mae: 0.1833\n",
      "loss value:  0.13976730406284332\n",
      "Mean absolute error:  0.18330959975719452\n"
     ]
    }
   ],
   "source": [
    "score = model.evaluate(X_test, y_test, verbose=1)\n",
    "print('loss value: ', score[0]) #MSE\n",
    "print('Mean absolute error: ', score[1])"
   ]
  },
  {
   "cell_type": "code",
   "execution_count": 172,
   "metadata": {
    "colab": {
     "base_uri": "https://localhost:8080/"
    },
    "id": "pU6XhvG1KGAW",
    "outputId": "1759a4b8-4e21-492e-daad-d9cac5c59a68"
   },
   "outputs": [
    {
     "name": "stdout",
     "output_type": "stream",
     "text": [
      "10/10 [==============================] - 0s 769us/step\n"
     ]
    }
   ],
   "source": [
    "# predict employee attrition using the test data \n",
    "test_predictions = model.predict(X_test).flatten()"
   ]
  },
  {
   "cell_type": "code",
   "execution_count": 173,
   "metadata": {
    "colab": {
     "base_uri": "https://localhost:8080/",
     "height": 363
    },
    "id": "YU_uYor-KKxe",
    "outputId": "90759a78-f582-47cd-ce40-6f6c87a7a5f6"
   },
   "outputs": [
    {
     "data": {
      "text/html": [
       "<div>\n",
       "<style scoped>\n",
       "    .dataframe tbody tr th:only-of-type {\n",
       "        vertical-align: middle;\n",
       "    }\n",
       "\n",
       "    .dataframe tbody tr th {\n",
       "        vertical-align: top;\n",
       "    }\n",
       "\n",
       "    .dataframe thead th {\n",
       "        text-align: right;\n",
       "    }\n",
       "</style>\n",
       "<table border=\"1\" class=\"dataframe\">\n",
       "  <thead>\n",
       "    <tr style=\"text-align: right;\">\n",
       "      <th></th>\n",
       "      <th>True Value</th>\n",
       "      <th>Predicted Value</th>\n",
       "    </tr>\n",
       "  </thead>\n",
       "  <tbody>\n",
       "    <tr>\n",
       "      <th>186</th>\n",
       "      <td>0</td>\n",
       "      <td>0.041716</td>\n",
       "    </tr>\n",
       "    <tr>\n",
       "      <th>31</th>\n",
       "      <td>0</td>\n",
       "      <td>0.041716</td>\n",
       "    </tr>\n",
       "    <tr>\n",
       "      <th>291</th>\n",
       "      <td>0</td>\n",
       "      <td>0.041716</td>\n",
       "    </tr>\n",
       "    <tr>\n",
       "      <th>237</th>\n",
       "      <td>0</td>\n",
       "      <td>0.041716</td>\n",
       "    </tr>\n",
       "    <tr>\n",
       "      <th>251</th>\n",
       "      <td>0</td>\n",
       "      <td>0.041716</td>\n",
       "    </tr>\n",
       "    <tr>\n",
       "      <th>22</th>\n",
       "      <td>0</td>\n",
       "      <td>0.042682</td>\n",
       "    </tr>\n",
       "    <tr>\n",
       "      <th>160</th>\n",
       "      <td>0</td>\n",
       "      <td>0.041716</td>\n",
       "    </tr>\n",
       "    <tr>\n",
       "      <th>228</th>\n",
       "      <td>0</td>\n",
       "      <td>0.041716</td>\n",
       "    </tr>\n",
       "    <tr>\n",
       "      <th>70</th>\n",
       "      <td>0</td>\n",
       "      <td>0.041717</td>\n",
       "    </tr>\n",
       "    <tr>\n",
       "      <th>140</th>\n",
       "      <td>0</td>\n",
       "      <td>0.041716</td>\n",
       "    </tr>\n",
       "  </tbody>\n",
       "</table>\n",
       "</div>"
      ],
      "text/plain": [
       "     True Value  Predicted Value\n",
       "186           0         0.041716\n",
       "31            0         0.041716\n",
       "291           0         0.041716\n",
       "237           0         0.041716\n",
       "251           0         0.041716\n",
       "22            0         0.042682\n",
       "160           0         0.041716\n",
       "228           0         0.041716\n",
       "70            0         0.041717\n",
       "140           0         0.041716"
      ]
     },
     "execution_count": 173,
     "metadata": {},
     "output_type": "execute_result"
    }
   ],
   "source": [
    "# show the true value and predicted value in dataframe\n",
    "true_predicted = pd.DataFrame(list(zip(y_test, test_predictions)), \n",
    "                    columns=['True Value','Predicted Value'])\n",
    "true_predicted.sample(10)"
   ]
  },
  {
   "cell_type": "markdown",
   "metadata": {},
   "source": [
    "## Classification Report"
   ]
  },
  {
   "cell_type": "code",
   "execution_count": 186,
   "metadata": {},
   "outputs": [
    {
     "name": "stdout",
     "output_type": "stream",
     "text": [
      "Logistic Regression\n",
      "[[240   7]\n",
      " [ 30  17]]\n",
      "              precision    recall  f1-score   support\n",
      "\n",
      "           0       0.89      0.97      0.93       247\n",
      "           1       0.71      0.36      0.48        47\n",
      "\n",
      "    accuracy                           0.87       294\n",
      "   macro avg       0.80      0.67      0.70       294\n",
      "weighted avg       0.86      0.87      0.86       294\n",
      "\n",
      "Random Forest Classifier\n",
      "[[247   0]\n",
      " [ 44   3]]\n",
      "              precision    recall  f1-score   support\n",
      "\n",
      "           0       0.85      1.00      0.92       247\n",
      "           1       1.00      0.06      0.12        47\n",
      "\n",
      "    accuracy                           0.85       294\n",
      "   macro avg       0.92      0.53      0.52       294\n",
      "weighted avg       0.87      0.85      0.79       294\n",
      "\n",
      "Decision Tree Classifier\n",
      "[[236  11]\n",
      " [ 33  14]]\n",
      "              precision    recall  f1-score   support\n",
      "\n",
      "           0       0.88      0.96      0.91       247\n",
      "           1       0.56      0.30      0.39        47\n",
      "\n",
      "    accuracy                           0.85       294\n",
      "   macro avg       0.72      0.63      0.65       294\n",
      "weighted avg       0.83      0.85      0.83       294\n",
      "\n",
      "Support Vector Classifier\n",
      "[[244   3]\n",
      " [ 39   8]]\n",
      "              precision    recall  f1-score   support\n",
      "\n",
      "           0       0.86      0.99      0.92       247\n",
      "           1       0.73      0.17      0.28        47\n",
      "\n",
      "    accuracy                           0.86       294\n",
      "   macro avg       0.79      0.58      0.60       294\n",
      "weighted avg       0.84      0.86      0.82       294\n",
      "\n",
      "ANN\n",
      "[[233  14]\n",
      " [ 32  15]]\n",
      "              precision    recall  f1-score   support\n",
      "\n",
      "           0       0.88      0.94      0.91       247\n",
      "           1       0.52      0.32      0.39        47\n",
      "\n",
      "    accuracy                           0.84       294\n",
      "   macro avg       0.70      0.63      0.65       294\n",
      "weighted avg       0.82      0.84      0.83       294\n",
      "\n"
     ]
    }
   ],
   "source": [
    "from sklearn.metrics import confusion_matrix, classification_report\n",
    "print(\"Logistic Regression\")\n",
    "print(confusion_matrix(y_test, log_reg.predict(X_test)))\n",
    "print(classification_report(y_test, log_reg.predict(X_test)))\n",
    "print(\"Random Forest Classifier\")\n",
    "print(confusion_matrix(y_test, rf_clf.predict(X_test)))\n",
    "print(classification_report(y_test, rf_clf.predict(X_test)))\n",
    "print(\"Decision Tree Classifier\")\n",
    "print(confusion_matrix(y_test, dt_clf.predict(X_test)))\n",
    "print(classification_report(y_test, dt_clf.predict(X_test)))\n",
    "print(\"Support Vector Classifier\")\n",
    "print(confusion_matrix(y_test, svc.predict(X_test)))\n",
    "print(classification_report(y_test, svc.predict(X_test)))\n",
    "print(\"ANN\")\n",
    "print(confusion_matrix(y_test, test_predictions > 0.5))\n",
    "print(classification_report(y_test, test_predictions > 0.5))"
   ]
  },
  {
   "cell_type": "code",
   "execution_count": null,
   "metadata": {},
   "outputs": [],
   "source": []
  }
 ],
 "metadata": {
  "accelerator": "GPU",
  "colab": {
   "provenance": []
  },
  "gpuClass": "standard",
  "kernelspec": {
   "display_name": "Python 3 (ipykernel)",
   "language": "python",
   "name": "python3"
  },
  "language_info": {
   "codemirror_mode": {
    "name": "ipython",
    "version": 3
   },
   "file_extension": ".py",
   "mimetype": "text/x-python",
   "name": "python",
   "nbconvert_exporter": "python",
   "pygments_lexer": "ipython3",
   "version": "3.10.7"
  }
 },
 "nbformat": 4,
 "nbformat_minor": 1
}
